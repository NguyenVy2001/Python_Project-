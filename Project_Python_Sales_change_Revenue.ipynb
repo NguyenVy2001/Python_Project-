{
  "nbformat": 4,
  "nbformat_minor": 0,
  "metadata": {
    "colab": {
      "provenance": [],
      "authorship_tag": "ABX9TyM+b+a3eC1Kt4MlDGlU/VuE",
      "include_colab_link": true
    },
    "kernelspec": {
      "name": "python3",
      "display_name": "Python 3"
    },
    "language_info": {
      "name": "python"
    }
  },
  "cells": [
    {
      "cell_type": "markdown",
      "metadata": {
        "id": "view-in-github",
        "colab_type": "text"
      },
      "source": [
        "<a href=\"https://colab.research.google.com/github/NguyenVy2001/csv-file/blob/main/Project_Python_Sales_change_Revenue.ipynb\" target=\"_parent\"><img src=\"https://colab.research.google.com/assets/colab-badge.svg\" alt=\"Open In Colab\"/></a>"
      ]
    },
    {
      "cell_type": "code",
      "source": [
        "import pandas as pd\n",
        "import io\n",
        "prices_csv = '/content/drive/MyDrive/Project Python CSV/prices.csv'\n",
        "prices = pd.read_csv(prices_csv, sep = ';')\n",
        "sales_csv = '/content/drive/MyDrive/Project Python CSV/sales.csv'\n",
        "sales = pd.read_csv(sales_csv, sep = ';')\n",
        "print(prices)\n",
        "print(sales)"
      ],
      "metadata": {
        "id": "iHPIyvVMSOnA",
        "colab": {
          "base_uri": "https://localhost:8080/"
        },
        "outputId": "1925259e-830b-4946-feec-7234f71e28e5"
      },
      "execution_count": null,
      "outputs": [
        {
          "output_type": "stream",
          "name": "stdout",
          "text": [
            "    product_id  old_price  new_price        updated_at\n",
            "0           64     270000     239000  09/10/2018 16:37\n",
            "1      3954203      60000      64000  09/11/2018 11:54\n",
            "2      3954203      60500      57500     9/17/18 22:59\n",
            "3      3954203      64000      60500      9/15/18 3:49\n",
            "4      3954203      68800      60000  09/10/2018 16:32\n",
            "5      3998909      15500      16500      9/16/18 5:09\n",
            "6      3998909      17000      15500      9/13/18 6:43\n",
            "7      3998909      19000      17000  09/10/2018 16:35\n",
            "8      4085861      53500      52000     9/17/18 22:59\n",
            "9      4085861      53500      67000   09/12/2018 3:51\n",
            "10     4085861      58000      53500      9/17/18 3:35\n",
            "11     4085861      60000      53500   09/11/2018 8:51\n",
            "12     4085861      62500      58000      9/15/18 3:51\n",
            "13     4085861      67000      62500      9/13/18 6:43\n",
            "     product_id        ordered_at  quantity_ordered\n",
            "0       3998909     9/18/18 17:51                 1\n",
            "1       3998909     9/18/18 12:52                 1\n",
            "2       3998909     9/18/18 11:33                 1\n",
            "3       3998909     9/18/18 18:47                 1\n",
            "4       3998909     9/18/18 17:36                 1\n",
            "..          ...               ...               ...\n",
            "170     4085861     9/13/18 23:29                 1\n",
            "171          64  09/11/2018 19:32                 1\n",
            "172          64     9/14/18 20:10                 1\n",
            "173          64  09/12/2018 16:00                 1\n",
            "174          64  09/12/2018 13:23                 1\n",
            "\n",
            "[175 rows x 3 columns]\n"
          ]
        }
      ]
    },
    {
      "cell_type": "code",
      "source": [
        "sales_df = prices.merge(sales, on = 'product_id')\n",
        "sales_df['ordered_at']= pd.to_datetime(sales_df['ordered_at'])\n",
        "sales_df['updated_at']= pd.to_datetime(sales_df['updated_at'])\n",
        "sales_df = sales_df.sort_values('product_id')\n",
        "sales_df['time_diff'] = abs(sales_df['ordered_at'] - sales_df['updated_at'])\n",
        "print(sales_df)"
      ],
      "metadata": {
        "id": "NBgI9hx_RRGA",
        "colab": {
          "base_uri": "https://localhost:8080/"
        },
        "outputId": "ba6d265a-805b-4e61-998c-dd1f4a31b515"
      },
      "execution_count": null,
      "outputs": [
        {
          "output_type": "stream",
          "name": "stdout",
          "text": [
            "     product_id  old_price  new_price          updated_at          ordered_at  \\\n",
            "0            64     270000     239000 2018-09-10 16:37:00 2018-09-11 19:32:00   \n",
            "1            64     270000     239000 2018-09-10 16:37:00 2018-09-14 20:10:00   \n",
            "2            64     270000     239000 2018-09-10 16:37:00 2018-09-12 16:00:00   \n",
            "3            64     270000     239000 2018-09-10 16:37:00 2018-09-12 13:23:00   \n",
            "34      3954203      64000      60500 2018-09-15 03:49:00 2018-09-11 18:26:00   \n",
            "..          ...        ...        ...                 ...                 ...   \n",
            "393     4085861      58000      53500 2018-09-17 03:35:00 2018-09-16 11:23:00   \n",
            "394     4085861      58000      53500 2018-09-17 03:35:00 2018-09-15 11:59:00   \n",
            "395     4085861      58000      53500 2018-09-17 03:35:00 2018-09-16 18:35:00   \n",
            "371     4085861      53500      67000 2018-09-12 03:51:00 2018-09-14 09:19:00   \n",
            "953     4085861      67000      62500 2018-09-13 06:43:00 2018-09-13 23:29:00   \n",
            "\n",
            "     quantity_ordered       time_diff  \n",
            "0                   1 1 days 02:55:00  \n",
            "1                   1 4 days 03:33:00  \n",
            "2                   1 1 days 23:23:00  \n",
            "3                   1 1 days 20:46:00  \n",
            "34                  1 3 days 09:23:00  \n",
            "..                ...             ...  \n",
            "393                 1 0 days 16:12:00  \n",
            "394                 1 1 days 15:36:00  \n",
            "395                 1 0 days 09:00:00  \n",
            "371                 1 2 days 05:28:00  \n",
            "953                 1 0 days 16:46:00  \n",
            "\n",
            "[954 rows x 7 columns]\n"
          ]
        }
      ]
    },
    {
      "cell_type": "code",
      "source": [
        "min_time_diff= sales_df.groupby(['product_id', 'ordered_at'])['time_diff'].min().reset_index()\n",
        "min_time_diff = min_time_diff.sort_values('product_id')\n",
        "print(min_time_diff)"
      ],
      "metadata": {
        "colab": {
          "base_uri": "https://localhost:8080/"
        },
        "id": "-u6VG0jSmfH7",
        "outputId": "6daa56f2-1bb8-41c7-fa9b-3fc6c0b11d70"
      },
      "execution_count": null,
      "outputs": [
        {
          "output_type": "stream",
          "name": "stdout",
          "text": [
            "     product_id          ordered_at       time_diff\n",
            "0            64 2018-09-11 19:32:00 1 days 02:55:00\n",
            "1            64 2018-09-12 13:23:00 1 days 20:46:00\n",
            "2            64 2018-09-12 16:00:00 1 days 23:23:00\n",
            "3            64 2018-09-14 20:10:00 4 days 03:33:00\n",
            "16      3954203 2018-09-18 21:26:00 0 days 22:27:00\n",
            "..          ...                 ...             ...\n",
            "79      4085861 2018-09-13 21:08:00 0 days 14:25:00\n",
            "80      4085861 2018-09-13 22:05:00 0 days 15:22:00\n",
            "81      4085861 2018-09-13 23:29:00 0 days 16:46:00\n",
            "75      4085861 2018-09-13 19:01:00 0 days 12:18:00\n",
            "172     4085861 2018-09-18 20:54:00 0 days 21:55:00\n",
            "\n",
            "[173 rows x 3 columns]\n"
          ]
        }
      ]
    },
    {
      "cell_type": "code",
      "source": [
        "result = min_time_diff.merge(sales_df, on = ['time_diff', 'product_id', 'ordered_at'])\n",
        "print(result)"
      ],
      "metadata": {
        "colab": {
          "base_uri": "https://localhost:8080/"
        },
        "id": "BXachkqCyQDS",
        "outputId": "6cb66597-2850-4ce8-c772-0aa117c8f361"
      },
      "execution_count": null,
      "outputs": [
        {
          "output_type": "stream",
          "name": "stdout",
          "text": [
            "     product_id          ordered_at       time_diff  old_price  new_price  \\\n",
            "0            64 2018-09-11 19:32:00 1 days 02:55:00     270000     239000   \n",
            "1            64 2018-09-12 13:23:00 1 days 20:46:00     270000     239000   \n",
            "2            64 2018-09-12 16:00:00 1 days 23:23:00     270000     239000   \n",
            "3            64 2018-09-14 20:10:00 4 days 03:33:00     270000     239000   \n",
            "4       3954203 2018-09-18 21:26:00 0 days 22:27:00      60500      57500   \n",
            "..          ...                 ...             ...        ...        ...   \n",
            "170     4085861 2018-09-13 21:08:00 0 days 14:25:00      67000      62500   \n",
            "171     4085861 2018-09-13 22:05:00 0 days 15:22:00      67000      62500   \n",
            "172     4085861 2018-09-13 23:29:00 0 days 16:46:00      67000      62500   \n",
            "173     4085861 2018-09-13 19:01:00 0 days 12:18:00      67000      62500   \n",
            "174     4085861 2018-09-18 20:54:00 0 days 21:55:00      53500      52000   \n",
            "\n",
            "             updated_at  quantity_ordered  \n",
            "0   2018-09-10 16:37:00                 1  \n",
            "1   2018-09-10 16:37:00                 1  \n",
            "2   2018-09-10 16:37:00                 1  \n",
            "3   2018-09-10 16:37:00                 1  \n",
            "4   2018-09-17 22:59:00                 1  \n",
            "..                  ...               ...  \n",
            "170 2018-09-13 06:43:00                 1  \n",
            "171 2018-09-13 06:43:00                 1  \n",
            "172 2018-09-13 06:43:00                 1  \n",
            "173 2018-09-13 06:43:00                 1  \n",
            "174 2018-09-17 22:59:00                 1  \n",
            "\n",
            "[175 rows x 7 columns]\n"
          ]
        }
      ]
    },
    {
      "cell_type": "code",
      "source": [
        "def calculate_final_price(x):\n",
        "  if x['ordered_at'] > x['updated_at']:\n",
        "    return x['new_price']\n",
        "  else:\n",
        "    return x['old_price']\n",
        "\n",
        "result['final_price'] = result.apply(calculate_final_price, axis=1)\n",
        "\n",
        "\n",
        "print(result)\n"
      ],
      "metadata": {
        "id": "xyofcMgLRRhb",
        "colab": {
          "base_uri": "https://localhost:8080/"
        },
        "outputId": "1e69ca79-d9f3-43be-9fb8-776b676f309e"
      },
      "execution_count": null,
      "outputs": [
        {
          "output_type": "stream",
          "name": "stdout",
          "text": [
            "     product_id          ordered_at       time_diff  old_price  new_price  \\\n",
            "0            64 2018-09-11 19:32:00 1 days 02:55:00     270000     239000   \n",
            "1            64 2018-09-12 13:23:00 1 days 20:46:00     270000     239000   \n",
            "2            64 2018-09-12 16:00:00 1 days 23:23:00     270000     239000   \n",
            "3            64 2018-09-14 20:10:00 4 days 03:33:00     270000     239000   \n",
            "4       3954203 2018-09-18 21:26:00 0 days 22:27:00      60500      57500   \n",
            "..          ...                 ...             ...        ...        ...   \n",
            "170     4085861 2018-09-13 21:08:00 0 days 14:25:00      67000      62500   \n",
            "171     4085861 2018-09-13 22:05:00 0 days 15:22:00      67000      62500   \n",
            "172     4085861 2018-09-13 23:29:00 0 days 16:46:00      67000      62500   \n",
            "173     4085861 2018-09-13 19:01:00 0 days 12:18:00      67000      62500   \n",
            "174     4085861 2018-09-18 20:54:00 0 days 21:55:00      53500      52000   \n",
            "\n",
            "             updated_at  quantity_ordered  final_price  \n",
            "0   2018-09-10 16:37:00                 1       239000  \n",
            "1   2018-09-10 16:37:00                 1       239000  \n",
            "2   2018-09-10 16:37:00                 1       239000  \n",
            "3   2018-09-10 16:37:00                 1       239000  \n",
            "4   2018-09-17 22:59:00                 1        57500  \n",
            "..                  ...               ...          ...  \n",
            "170 2018-09-13 06:43:00                 1        62500  \n",
            "171 2018-09-13 06:43:00                 1        62500  \n",
            "172 2018-09-13 06:43:00                 1        62500  \n",
            "173 2018-09-13 06:43:00                 1        62500  \n",
            "174 2018-09-17 22:59:00                 1        52000  \n",
            "\n",
            "[175 rows x 8 columns]\n"
          ]
        }
      ]
    },
    {
      "cell_type": "code",
      "source": [
        "selected_df = result[['product_id', 'final_price', 'quantity_ordered']]\n",
        "selected_df['revenue'] = selected_df['final_price'] * selected_df['quantity_ordered']\n",
        "revenue_by_price = selected_df.groupby(['product_id','final_price'])['revenue'].sum().reset_index()\n",
        "revenue_by_price = revenue_by_price.sort_values('product_id')\n",
        "print(revenue_by_price)"
      ],
      "metadata": {
        "colab": {
          "base_uri": "https://localhost:8080/"
        },
        "id": "uVBBpdvnFksL",
        "outputId": "a4ff8eb8-4699-4665-f82f-fa6f28361f7b"
      },
      "execution_count": null,
      "outputs": [
        {
          "output_type": "stream",
          "name": "stdout",
          "text": [
            "    product_id  final_price  revenue\n",
            "0           64       239000   956000\n",
            "1      3954203        57500    57500\n",
            "2      3954203        60000   180000\n",
            "3      3954203        64000   640000\n",
            "4      3998909        15500    15500\n",
            "5      3998909        16500   231000\n",
            "6      3998909        17000    34000\n",
            "7      4085861        52000  1040000\n",
            "8      4085861        53500  2140000\n",
            "9      4085861        58000  2204000\n",
            "10     4085861        60000   180000\n",
            "11     4085861        62500  1812500\n",
            "12     4085861        67000   871000\n"
          ]
        },
        {
          "output_type": "stream",
          "name": "stderr",
          "text": [
            "<ipython-input-9-131c0de2a6a6>:2: SettingWithCopyWarning: \n",
            "A value is trying to be set on a copy of a slice from a DataFrame.\n",
            "Try using .loc[row_indexer,col_indexer] = value instead\n",
            "\n",
            "See the caveats in the documentation: https://pandas.pydata.org/pandas-docs/stable/user_guide/indexing.html#returning-a-view-versus-a-copy\n",
            "  selected_df['revenue'] = selected_df['final_price'] * selected_df['quantity_ordered']\n"
          ]
        }
      ]
    },
    {
      "cell_type": "code",
      "source": [
        "revenue_by_product = selected_df.groupby('product_id')['revenue'].sum().reset_index()\n",
        "print(revenue_by_product)"
      ],
      "metadata": {
        "colab": {
          "base_uri": "https://localhost:8080/"
        },
        "id": "A1qekNplNDPY",
        "outputId": "ebe81d10-1387-4f9a-9b89-ac55392ad573"
      },
      "execution_count": null,
      "outputs": [
        {
          "output_type": "stream",
          "name": "stdout",
          "text": [
            "   product_id  revenue\n",
            "0          64   956000\n",
            "1     3954203   877500\n",
            "2     3998909   280500\n",
            "3     4085861  8247500\n"
          ]
        }
      ]
    }
  ]
}